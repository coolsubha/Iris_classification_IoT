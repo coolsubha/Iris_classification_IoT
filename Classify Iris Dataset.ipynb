{
 "cells": [
  {
   "cell_type": "code",
   "execution_count": 49,
   "metadata": {},
   "outputs": [],
   "source": [
    "import pandas as pd\n",
    "from sklearn.preprocessing import LabelEncoder\n",
    "from sklearn.model_selection import train_test_split\n",
    "from sklearn.metrics import classification_report, confusion_matrix\n",
    "import tensorflow as tf\n",
    "\n",
    "import numpy as np\n",
    "import matplotlib.pyplot as plt"
   ]
  },
  {
   "cell_type": "code",
   "execution_count": 50,
   "metadata": {},
   "outputs": [
    {
     "data": {
      "text/html": [
       "<div>\n",
       "<style scoped>\n",
       "    .dataframe tbody tr th:only-of-type {\n",
       "        vertical-align: middle;\n",
       "    }\n",
       "\n",
       "    .dataframe tbody tr th {\n",
       "        vertical-align: top;\n",
       "    }\n",
       "\n",
       "    .dataframe thead th {\n",
       "        text-align: right;\n",
       "    }\n",
       "</style>\n",
       "<table border=\"1\" class=\"dataframe\">\n",
       "  <thead>\n",
       "    <tr style=\"text-align: right;\">\n",
       "      <th></th>\n",
       "      <th>Id</th>\n",
       "      <th>SepalLengthCm</th>\n",
       "      <th>SepalWidthCm</th>\n",
       "      <th>PetalLengthCm</th>\n",
       "      <th>PetalWidthCm</th>\n",
       "      <th>Species</th>\n",
       "    </tr>\n",
       "  </thead>\n",
       "  <tbody>\n",
       "    <tr>\n",
       "      <th>50</th>\n",
       "      <td>51</td>\n",
       "      <td>7.0</td>\n",
       "      <td>3.2</td>\n",
       "      <td>4.7</td>\n",
       "      <td>1.4</td>\n",
       "      <td>Iris-versicolor</td>\n",
       "    </tr>\n",
       "    <tr>\n",
       "      <th>51</th>\n",
       "      <td>52</td>\n",
       "      <td>6.4</td>\n",
       "      <td>3.2</td>\n",
       "      <td>4.5</td>\n",
       "      <td>1.5</td>\n",
       "      <td>Iris-versicolor</td>\n",
       "    </tr>\n",
       "    <tr>\n",
       "      <th>52</th>\n",
       "      <td>53</td>\n",
       "      <td>6.9</td>\n",
       "      <td>3.1</td>\n",
       "      <td>4.9</td>\n",
       "      <td>1.5</td>\n",
       "      <td>Iris-versicolor</td>\n",
       "    </tr>\n",
       "    <tr>\n",
       "      <th>53</th>\n",
       "      <td>54</td>\n",
       "      <td>5.5</td>\n",
       "      <td>2.3</td>\n",
       "      <td>4.0</td>\n",
       "      <td>1.3</td>\n",
       "      <td>Iris-versicolor</td>\n",
       "    </tr>\n",
       "    <tr>\n",
       "      <th>54</th>\n",
       "      <td>55</td>\n",
       "      <td>6.5</td>\n",
       "      <td>2.8</td>\n",
       "      <td>4.6</td>\n",
       "      <td>1.5</td>\n",
       "      <td>Iris-versicolor</td>\n",
       "    </tr>\n",
       "    <tr>\n",
       "      <th>55</th>\n",
       "      <td>56</td>\n",
       "      <td>5.7</td>\n",
       "      <td>2.8</td>\n",
       "      <td>4.5</td>\n",
       "      <td>1.3</td>\n",
       "      <td>Iris-versicolor</td>\n",
       "    </tr>\n",
       "    <tr>\n",
       "      <th>56</th>\n",
       "      <td>57</td>\n",
       "      <td>6.3</td>\n",
       "      <td>3.3</td>\n",
       "      <td>4.7</td>\n",
       "      <td>1.6</td>\n",
       "      <td>Iris-versicolor</td>\n",
       "    </tr>\n",
       "    <tr>\n",
       "      <th>57</th>\n",
       "      <td>58</td>\n",
       "      <td>4.9</td>\n",
       "      <td>2.4</td>\n",
       "      <td>3.3</td>\n",
       "      <td>1.0</td>\n",
       "      <td>Iris-versicolor</td>\n",
       "    </tr>\n",
       "    <tr>\n",
       "      <th>58</th>\n",
       "      <td>59</td>\n",
       "      <td>6.6</td>\n",
       "      <td>2.9</td>\n",
       "      <td>4.6</td>\n",
       "      <td>1.3</td>\n",
       "      <td>Iris-versicolor</td>\n",
       "    </tr>\n",
       "    <tr>\n",
       "      <th>59</th>\n",
       "      <td>60</td>\n",
       "      <td>5.2</td>\n",
       "      <td>2.7</td>\n",
       "      <td>3.9</td>\n",
       "      <td>1.4</td>\n",
       "      <td>Iris-versicolor</td>\n",
       "    </tr>\n",
       "  </tbody>\n",
       "</table>\n",
       "</div>"
      ],
      "text/plain": [
       "    Id  SepalLengthCm  SepalWidthCm  PetalLengthCm  PetalWidthCm  \\\n",
       "50  51            7.0           3.2            4.7           1.4   \n",
       "51  52            6.4           3.2            4.5           1.5   \n",
       "52  53            6.9           3.1            4.9           1.5   \n",
       "53  54            5.5           2.3            4.0           1.3   \n",
       "54  55            6.5           2.8            4.6           1.5   \n",
       "55  56            5.7           2.8            4.5           1.3   \n",
       "56  57            6.3           3.3            4.7           1.6   \n",
       "57  58            4.9           2.4            3.3           1.0   \n",
       "58  59            6.6           2.9            4.6           1.3   \n",
       "59  60            5.2           2.7            3.9           1.4   \n",
       "\n",
       "            Species  \n",
       "50  Iris-versicolor  \n",
       "51  Iris-versicolor  \n",
       "52  Iris-versicolor  \n",
       "53  Iris-versicolor  \n",
       "54  Iris-versicolor  \n",
       "55  Iris-versicolor  \n",
       "56  Iris-versicolor  \n",
       "57  Iris-versicolor  \n",
       "58  Iris-versicolor  \n",
       "59  Iris-versicolor  "
      ]
     },
     "execution_count": 50,
     "metadata": {},
     "output_type": "execute_result"
    }
   ],
   "source": [
    "data = pd.read_csv('Iris.csv')\n",
    "data[50:60]"
   ]
  },
  {
   "cell_type": "code",
   "execution_count": 51,
   "metadata": {},
   "outputs": [],
   "source": [
    "X_features=['SepalLengthCm','SepalWidthCm','PetalLengthCm','PetalWidthCm']\n",
    "Y_label=['Species']"
   ]
  },
  {
   "cell_type": "code",
   "execution_count": 52,
   "metadata": {},
   "outputs": [
    {
     "name": "stderr",
     "output_type": "stream",
     "text": [
      "/opt/tljh/user/lib/python3.7/site-packages/sklearn/utils/validation.py:72: DataConversionWarning: A column-vector y was passed when a 1d array was expected. Please change the shape of y to (n_samples, ), for example using ravel().\n",
      "  return f(**kwargs)\n"
     ]
    }
   ],
   "source": [
    "X=data[X_features]\n",
    "Y=data[Y_label]\n",
    "\n",
    "encoder=LabelEncoder()\n",
    "y1=encoder.fit_transform(Y)\n",
    "Y=pd.get_dummies(y1).values "
   ]
  },
  {
   "cell_type": "code",
   "execution_count": 53,
   "metadata": {},
   "outputs": [],
   "source": [
    "# Train , test split using sklearn\n",
    "\n",
    "train_X, test_X, train_Y, test_Y=train_test_split(X,Y, test_size=0.2, random_state=0)"
   ]
  },
  {
   "cell_type": "code",
   "execution_count": 54,
   "metadata": {},
   "outputs": [],
   "source": [
    "l0 = tf.keras.layers.Dense(units=4, input_shape=(4,), activation='relu')\n",
    "l1 = tf.keras.layers.Dense(units=3, activation='softmax')\n",
    "model = tf.keras.Sequential([l0,l1])"
   ]
  },
  {
   "cell_type": "code",
   "execution_count": 55,
   "metadata": {},
   "outputs": [
    {
     "name": "stdout",
     "output_type": "stream",
     "text": [
      "Model: \"sequential_2\"\n",
      "_________________________________________________________________\n",
      "Layer (type)                 Output Shape              Param #   \n",
      "=================================================================\n",
      "dense_2 (Dense)              (None, 4)                 20        \n",
      "_________________________________________________________________\n",
      "dense_3 (Dense)              (None, 3)                 15        \n",
      "=================================================================\n",
      "Total params: 35\n",
      "Trainable params: 35\n",
      "Non-trainable params: 0\n",
      "_________________________________________________________________\n"
     ]
    }
   ],
   "source": [
    "# Model compiling\n",
    "\n",
    "model.compile(tf.keras.optimizers.Adam(0.02), loss='categorical_crossentropy', metrics=['accuracy'])\n",
    "model.summary()"
   ]
  },
  {
   "cell_type": "code",
   "execution_count": 56,
   "metadata": {},
   "outputs": [
    {
     "name": "stdout",
     "output_type": "stream",
     "text": [
      "Epoch 1/100\n",
      "4/4 [==============================] - 0s 1ms/step - loss: 4.0389 - accuracy: 0.3250\n",
      "Epoch 2/100\n",
      "4/4 [==============================] - 0s 936us/step - loss: 2.6914 - accuracy: 0.5917\n",
      "Epoch 3/100\n",
      "4/4 [==============================] - 0s 933us/step - loss: 1.8158 - accuracy: 0.4917\n",
      "Epoch 4/100\n",
      "4/4 [==============================] - 0s 841us/step - loss: 1.1864 - accuracy: 0.5333\n",
      "Epoch 5/100\n",
      "4/4 [==============================] - 0s 912us/step - loss: 1.0486 - accuracy: 0.4167\n",
      "Epoch 6/100\n",
      "4/4 [==============================] - 0s 921us/step - loss: 1.0756 - accuracy: 0.3667\n",
      "Epoch 7/100\n",
      "4/4 [==============================] - 0s 880us/step - loss: 1.1006 - accuracy: 0.3667\n",
      "Epoch 8/100\n",
      "4/4 [==============================] - 0s 1ms/step - loss: 1.0995 - accuracy: 0.3667\n",
      "Epoch 9/100\n",
      "4/4 [==============================] - 0s 955us/step - loss: 1.0819 - accuracy: 0.3667\n",
      "Epoch 10/100\n",
      "4/4 [==============================] - 0s 832us/step - loss: 1.0515 - accuracy: 0.3750\n",
      "Epoch 11/100\n",
      "4/4 [==============================] - 0s 832us/step - loss: 1.0190 - accuracy: 0.5333\n",
      "Epoch 12/100\n",
      "4/4 [==============================] - 0s 832us/step - loss: 0.9845 - accuracy: 0.6833\n",
      "Epoch 13/100\n",
      "4/4 [==============================] - 0s 800us/step - loss: 0.9758 - accuracy: 0.6750\n",
      "Epoch 14/100\n",
      "4/4 [==============================] - 0s 963us/step - loss: 0.9641 - accuracy: 0.6750\n",
      "Epoch 15/100\n",
      "4/4 [==============================] - 0s 1ms/step - loss: 0.9413 - accuracy: 0.6917\n",
      "Epoch 16/100\n",
      "4/4 [==============================] - 0s 946us/step - loss: 0.9187 - accuracy: 0.6917\n",
      "Epoch 17/100\n",
      "4/4 [==============================] - 0s 868us/step - loss: 0.9028 - accuracy: 0.6917\n",
      "Epoch 18/100\n",
      "4/4 [==============================] - 0s 863us/step - loss: 0.8826 - accuracy: 0.6917\n",
      "Epoch 19/100\n",
      "4/4 [==============================] - 0s 932us/step - loss: 0.8588 - accuracy: 0.6917\n",
      "Epoch 20/100\n",
      "4/4 [==============================] - 0s 1ms/step - loss: 0.8350 - accuracy: 0.6917\n",
      "Epoch 21/100\n",
      "4/4 [==============================] - 0s 1000us/step - loss: 0.8149 - accuracy: 0.6917\n",
      "Epoch 22/100\n",
      "4/4 [==============================] - 0s 1ms/step - loss: 0.7927 - accuracy: 0.6917\n",
      "Epoch 23/100\n",
      "4/4 [==============================] - 0s 930us/step - loss: 0.7699 - accuracy: 0.6917\n",
      "Epoch 24/100\n",
      "4/4 [==============================] - 0s 873us/step - loss: 0.7481 - accuracy: 0.6917\n",
      "Epoch 25/100\n",
      "4/4 [==============================] - 0s 912us/step - loss: 0.7277 - accuracy: 0.6917\n",
      "Epoch 26/100\n",
      "4/4 [==============================] - 0s 1ms/step - loss: 0.7076 - accuracy: 0.6917\n",
      "Epoch 27/100\n",
      "4/4 [==============================] - 0s 849us/step - loss: 0.6888 - accuracy: 0.6917\n",
      "Epoch 28/100\n",
      "4/4 [==============================] - 0s 923us/step - loss: 0.6715 - accuracy: 0.6917\n",
      "Epoch 29/100\n",
      "4/4 [==============================] - 0s 920us/step - loss: 0.6558 - accuracy: 0.6917\n",
      "Epoch 30/100\n",
      "4/4 [==============================] - 0s 1ms/step - loss: 0.6406 - accuracy: 0.6917\n",
      "Epoch 31/100\n",
      "4/4 [==============================] - 0s 1ms/step - loss: 0.6267 - accuracy: 0.6917\n",
      "Epoch 32/100\n",
      "4/4 [==============================] - 0s 897us/step - loss: 0.6139 - accuracy: 0.6917\n",
      "Epoch 33/100\n",
      "4/4 [==============================] - 0s 855us/step - loss: 0.6017 - accuracy: 0.7083\n",
      "Epoch 34/100\n",
      "4/4 [==============================] - 0s 772us/step - loss: 0.5906 - accuracy: 0.7333\n",
      "Epoch 35/100\n",
      "4/4 [==============================] - 0s 774us/step - loss: 0.5810 - accuracy: 0.7583\n",
      "Epoch 36/100\n",
      "4/4 [==============================] - 0s 874us/step - loss: 0.5704 - accuracy: 0.7750\n",
      "Epoch 37/100\n",
      "4/4 [==============================] - 0s 965us/step - loss: 0.5610 - accuracy: 0.7833\n",
      "Epoch 38/100\n",
      "4/4 [==============================] - 0s 913us/step - loss: 0.5525 - accuracy: 0.8250\n",
      "Epoch 39/100\n",
      "4/4 [==============================] - 0s 895us/step - loss: 0.5439 - accuracy: 0.8333\n",
      "Epoch 40/100\n",
      "4/4 [==============================] - 0s 834us/step - loss: 0.5359 - accuracy: 0.8667\n",
      "Epoch 41/100\n",
      "4/4 [==============================] - 0s 986us/step - loss: 0.5280 - accuracy: 0.8750\n",
      "Epoch 42/100\n",
      "4/4 [==============================] - 0s 960us/step - loss: 0.5204 - accuracy: 0.8833\n",
      "Epoch 43/100\n",
      "4/4 [==============================] - 0s 886us/step - loss: 0.5128 - accuracy: 0.9083\n",
      "Epoch 44/100\n",
      "4/4 [==============================] - 0s 889us/step - loss: 0.5053 - accuracy: 0.9250\n",
      "Epoch 45/100\n",
      "4/4 [==============================] - 0s 873us/step - loss: 0.4982 - accuracy: 0.9250\n",
      "Epoch 46/100\n",
      "4/4 [==============================] - 0s 811us/step - loss: 0.4915 - accuracy: 0.9250\n",
      "Epoch 47/100\n",
      "4/4 [==============================] - 0s 979us/step - loss: 0.4848 - accuracy: 0.9333\n",
      "Epoch 48/100\n",
      "4/4 [==============================] - 0s 1ms/step - loss: 0.4772 - accuracy: 0.9333\n",
      "Epoch 49/100\n",
      "4/4 [==============================] - 0s 914us/step - loss: 0.4701 - accuracy: 0.9333\n",
      "Epoch 50/100\n",
      "4/4 [==============================] - 0s 894us/step - loss: 0.4637 - accuracy: 0.9333\n",
      "Epoch 51/100\n",
      "4/4 [==============================] - 0s 942us/step - loss: 0.4565 - accuracy: 0.9333\n",
      "Epoch 52/100\n",
      "4/4 [==============================] - 0s 1ms/step - loss: 0.4490 - accuracy: 0.9417\n",
      "Epoch 53/100\n",
      "4/4 [==============================] - 0s 1ms/step - loss: 0.4426 - accuracy: 0.9417\n",
      "Epoch 54/100\n",
      "4/4 [==============================] - 0s 990us/step - loss: 0.4354 - accuracy: 0.9417\n",
      "Epoch 55/100\n",
      "4/4 [==============================] - 0s 931us/step - loss: 0.4286 - accuracy: 0.9417\n",
      "Epoch 56/100\n",
      "4/4 [==============================] - 0s 854us/step - loss: 0.4210 - accuracy: 0.9417\n",
      "Epoch 57/100\n",
      "4/4 [==============================] - 0s 833us/step - loss: 0.4153 - accuracy: 0.9417\n",
      "Epoch 58/100\n",
      "4/4 [==============================] - 0s 800us/step - loss: 0.4095 - accuracy: 0.9417\n",
      "Epoch 59/100\n",
      "4/4 [==============================] - 0s 813us/step - loss: 0.4013 - accuracy: 0.9500\n",
      "Epoch 60/100\n",
      "4/4 [==============================] - 0s 755us/step - loss: 0.3981 - accuracy: 0.9417\n",
      "Epoch 61/100\n",
      "4/4 [==============================] - 0s 879us/step - loss: 0.3887 - accuracy: 0.9417\n",
      "Epoch 62/100\n",
      "4/4 [==============================] - 0s 960us/step - loss: 0.3833 - accuracy: 0.9583\n",
      "Epoch 63/100\n",
      "4/4 [==============================] - 0s 855us/step - loss: 0.3754 - accuracy: 0.9583\n",
      "Epoch 64/100\n",
      "4/4 [==============================] - 0s 879us/step - loss: 0.3711 - accuracy: 0.9417\n",
      "Epoch 65/100\n",
      "4/4 [==============================] - 0s 897us/step - loss: 0.3664 - accuracy: 0.9500\n",
      "Epoch 66/100\n",
      "4/4 [==============================] - 0s 949us/step - loss: 0.3571 - accuracy: 0.9500\n",
      "Epoch 67/100\n",
      "4/4 [==============================] - 0s 1ms/step - loss: 0.3525 - accuracy: 0.9500\n",
      "Epoch 68/100\n",
      "4/4 [==============================] - 0s 1ms/step - loss: 0.3458 - accuracy: 0.9417\n",
      "Epoch 69/100\n",
      "4/4 [==============================] - 0s 919us/step - loss: 0.3407 - accuracy: 0.9417\n",
      "Epoch 70/100\n",
      "4/4 [==============================] - 0s 787us/step - loss: 0.3340 - accuracy: 0.9583\n",
      "Epoch 71/100\n",
      "4/4 [==============================] - 0s 879us/step - loss: 0.3310 - accuracy: 0.9500\n",
      "Epoch 72/100\n",
      "4/4 [==============================] - 0s 833us/step - loss: 0.3234 - accuracy: 0.9583\n",
      "Epoch 73/100\n",
      "4/4 [==============================] - 0s 918us/step - loss: 0.3199 - accuracy: 0.9500\n",
      "Epoch 74/100\n",
      "4/4 [==============================] - 0s 885us/step - loss: 0.3133 - accuracy: 0.9500\n",
      "Epoch 75/100\n",
      "4/4 [==============================] - 0s 963us/step - loss: 0.3102 - accuracy: 0.9500\n",
      "Epoch 76/100\n",
      "4/4 [==============================] - 0s 952us/step - loss: 0.3046 - accuracy: 0.9583\n",
      "Epoch 77/100\n",
      "4/4 [==============================] - 0s 911us/step - loss: 0.3089 - accuracy: 0.9417\n",
      "Epoch 78/100\n",
      "4/4 [==============================] - 0s 1ms/step - loss: 0.2972 - accuracy: 0.9417\n",
      "Epoch 79/100\n",
      "4/4 [==============================] - 0s 924us/step - loss: 0.2982 - accuracy: 0.9333\n",
      "Epoch 80/100\n",
      "4/4 [==============================] - 0s 1ms/step - loss: 0.2885 - accuracy: 0.9583\n",
      "Epoch 81/100\n",
      "4/4 [==============================] - 0s 1ms/step - loss: 0.2827 - accuracy: 0.9500\n",
      "Epoch 82/100\n",
      "4/4 [==============================] - 0s 828us/step - loss: 0.2757 - accuracy: 0.9667\n",
      "Epoch 83/100\n",
      "4/4 [==============================] - 0s 961us/step - loss: 0.2758 - accuracy: 0.9583\n",
      "Epoch 84/100\n",
      "4/4 [==============================] - 0s 970us/step - loss: 0.2689 - accuracy: 0.9583\n",
      "Epoch 85/100\n",
      "4/4 [==============================] - 0s 968us/step - loss: 0.2654 - accuracy: 0.9583\n",
      "Epoch 86/100\n",
      "4/4 [==============================] - 0s 894us/step - loss: 0.2614 - accuracy: 0.9667\n",
      "Epoch 87/100\n",
      "4/4 [==============================] - 0s 878us/step - loss: 0.2579 - accuracy: 0.9667\n",
      "Epoch 88/100\n",
      "4/4 [==============================] - 0s 907us/step - loss: 0.2535 - accuracy: 0.9583\n",
      "Epoch 89/100\n",
      "4/4 [==============================] - 0s 905us/step - loss: 0.2507 - accuracy: 0.9667\n",
      "Epoch 90/100\n",
      "4/4 [==============================] - 0s 917us/step - loss: 0.2463 - accuracy: 0.9667\n",
      "Epoch 91/100\n",
      "4/4 [==============================] - 0s 1ms/step - loss: 0.2433 - accuracy: 0.9667\n",
      "Epoch 92/100\n",
      "4/4 [==============================] - 0s 1ms/step - loss: 0.2400 - accuracy: 0.9667\n",
      "Epoch 93/100\n",
      "4/4 [==============================] - 0s 834us/step - loss: 0.2375 - accuracy: 0.9667\n",
      "Epoch 94/100\n",
      "4/4 [==============================] - 0s 817us/step - loss: 0.2337 - accuracy: 0.9750\n",
      "Epoch 95/100\n",
      "4/4 [==============================] - 0s 989us/step - loss: 0.2329 - accuracy: 0.9583\n",
      "Epoch 96/100\n",
      "4/4 [==============================] - 0s 828us/step - loss: 0.2295 - accuracy: 0.9667\n",
      "Epoch 97/100\n",
      "4/4 [==============================] - 0s 1ms/step - loss: 0.2271 - accuracy: 0.9750\n",
      "Epoch 98/100\n",
      "4/4 [==============================] - 0s 928us/step - loss: 0.2220 - accuracy: 0.9667\n",
      "Epoch 99/100\n",
      "4/4 [==============================] - 0s 1ms/step - loss: 0.2189 - accuracy: 0.9667\n",
      "Epoch 100/100\n",
      "4/4 [==============================] - 0s 927us/step - loss: 0.2181 - accuracy: 0.9583\n"
     ]
    },
    {
     "data": {
      "text/plain": [
       "<tensorflow.python.keras.callbacks.History at 0x7f24e8489898>"
      ]
     },
     "execution_count": 56,
     "metadata": {},
     "output_type": "execute_result"
    }
   ],
   "source": [
    "model.fit(train_X, train_Y, epochs=100)"
   ]
  },
  {
   "cell_type": "code",
   "execution_count": 57,
   "metadata": {},
   "outputs": [
    {
     "name": "stdout",
     "output_type": "stream",
     "text": [
      "1/1 [==============================] - 0s 1ms/step - loss: 0.1692 - accuracy: 1.0000\n",
      "<class 'pandas.core.frame.DataFrame'>\n",
      "Restored model, accuracy: 100.00%\n",
      "Restored model, loss: 0.16915734112262726\n"
     ]
    }
   ],
   "source": [
    "loss, acc = model.evaluate(test_X, test_Y)\n",
    "print(type(test_X))\n",
    "print(\"Restored model, accuracy: {:5.2f}%\".format(100*acc))\n",
    "print(\"Restored model, loss: {}\".format(loss))"
   ]
  },
  {
   "cell_type": "code",
   "execution_count": 58,
   "metadata": {},
   "outputs": [
    {
     "name": "stdout",
     "output_type": "stream",
     "text": [
      "INFO:tensorflow:Assets written to: Iris_model.TF/assets\n"
     ]
    }
   ],
   "source": [
    "#Save model in TF PB format\n",
    "saved_model_dir = 'Iris_model.TF'\n",
    "model.save(saved_model_dir)"
   ]
  },
  {
   "cell_type": "code",
   "execution_count": 59,
   "metadata": {},
   "outputs": [
    {
     "name": "stdout",
     "output_type": "stream",
     "text": [
      "reading [tensorflow model] from 'Iris_model.TF'\n",
      "Saved 'Iris_model.TF.onnx'\n",
      "reading onnx model from file  Iris_model.TF.onnx\n",
      "Model info:\n",
      "  ir_vesion :  4 \n",
      "  doc       : \n",
      "WARN (ONNX): terminal (input/output) dense_2_input_0's shape is less than 1.\n",
      "             changing it to 1.\n",
      "WARN (ONNX): terminal (input/output) Identity_0's shape is less than 1.\n",
      "             changing it to 1.\n",
      "running DNNC graph sanity check ... passed.\n",
      "Writing C++ file  Iris_model.TF_deepC/Iris_model.TF.cpp\n",
      "INFO (ONNX): model files are ready in dir Iris_model.TF_deepC\n",
      "g++ -O3 -I. -I/opt/tljh/user/lib/python3.7/site-packages/deepC-0.13-py3.7-linux-x86_64.egg/deepC/include -isystem /opt/tljh/user/lib/python3.7/site-packages/deepC-0.13-py3.7-linux-x86_64.egg/deepC/packages/eigen-eigen-323c052e1731 Iris_model.TF_deepC/Iris_model.TF.cpp -o Iris_model.TF_deepC/Iris_model.TF.exe\n",
      "Model executable  Iris_model.TF_deepC/Iris_model.TF.exe\n"
     ]
    }
   ],
   "source": [
    "#make it executable file\n",
    "!deepCC Iris_model.TF --format=tensorflow"
   ]
  },
  {
   "cell_type": "code",
   "execution_count": 60,
   "metadata": {},
   "outputs": [
    {
     "name": "stdout",
     "output_type": "stream",
     "text": [
      "reading file iris_test.data.\n",
      "writing file Identity_0.out.\n"
     ]
    }
   ],
   "source": [
    "#example=iris_data.data[3]\n",
    "#print(example)\n",
    "!./Iris_model.TF_deepC/Iris_model.TF.exe iris_test.data"
   ]
  },
  {
   "cell_type": "code",
   "execution_count": 61,
   "metadata": {},
   "outputs": [
    {
     "name": "stdout",
     "output_type": "stream",
     "text": [
      "Model prediction is Class : 1 for the iris_test.data\n"
     ]
    }
   ],
   "source": [
    "#print(test_iris.data)\n",
    "nn_out = np.loadtxt('Identity_0.out')\n",
    "print (\"Model prediction is Class :\", np.argmax(nn_out),\"for the iris_test.data\")"
   ]
  },
  {
   "cell_type": "code",
   "execution_count": null,
   "metadata": {},
   "outputs": [],
   "source": []
  }
 ],
 "metadata": {
  "kernelspec": {
   "display_name": "Python 3",
   "language": "python",
   "name": "python3"
  },
  "language_info": {
   "codemirror_mode": {
    "name": "ipython",
    "version": 3
   },
   "file_extension": ".py",
   "mimetype": "text/x-python",
   "name": "python",
   "nbconvert_exporter": "python",
   "pygments_lexer": "ipython3",
   "version": "3.7.3"
  }
 },
 "nbformat": 4,
 "nbformat_minor": 4
}
